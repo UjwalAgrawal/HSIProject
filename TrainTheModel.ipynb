{
 "cells": [
  {
   "cell_type": "code",
   "execution_count": 12,
   "metadata": {},
   "outputs": [],
   "source": [
    "import numpy as np\n",
    "import scipy\n",
    "import os\n",
    "from keras.models import Sequential\n",
    "from keras.layers import Dense, Dropout, Flatten\n",
    "from keras.layers import Conv2D, MaxPooling2D\n",
    "from keras.optimizers import SGD\n",
    "from keras import backend as K\n",
    "K.common.set_image_dim_ordering('th')\n",
    "from keras.utils import np_utils\n",
    "#from sklearn.cross_validation import StratifiedKFold"
   ]
  },
  {
   "cell_type": "code",
   "execution_count": 13,
   "metadata": {},
   "outputs": [
    {
     "name": "stdout",
     "output_type": "stream",
     "text": [
      "C:\\Users\\Ujwal\\Classification-of-Hyperspectral-Image-master\n"
     ]
    }
   ],
   "source": [
    "PATH = os.getcwd()\n",
    "print (PATH)"
   ]
  },
  {
   "cell_type": "code",
   "execution_count": 14,
   "metadata": {},
   "outputs": [],
   "source": [
    "# Load the Global values (windowSize, numPCAcomponents, testRatio) from the text file global_variables.txt\n",
    "myFile = open('global_variables.txt', 'r') \n",
    "file = myFile.readlines()[:]\n",
    "\n",
    "\n",
    "for line in file:\n",
    "\n",
    "    if line[0:3] == \"win\":\n",
    "\n",
    "        ds = line.find('=')\n",
    "        windowSize = int(line[ds+1:-1],10)\n",
    "\n",
    "    elif line[0:3] == \"num\":\n",
    "\n",
    "        ds = line.find('=')\n",
    "        numPCAcomponents = int(line[ds+2:-1],10)\n",
    "\n",
    "    else:\n",
    "\n",
    "        ds = line.find('=')\n",
    "        testRatio = float(line[ds+1:])\n"
   ]
  },
  {
   "cell_type": "code",
   "execution_count": 15,
   "metadata": {},
   "outputs": [],
   "source": [
    "# Global Variables\n",
    "# windowSize = 5\n",
    "# numPCAcomponents = 30\n",
    "# testRatio = 0.25"
   ]
  },
  {
   "cell_type": "markdown",
   "metadata": {},
   "source": [
    "# Load Training Dataset"
   ]
  },
  {
   "cell_type": "code",
   "execution_count": 16,
   "metadata": {},
   "outputs": [],
   "source": [
    "X_train = np.load(\"X_trainPatches_\" + str(windowSize) + \"PCA\" + str(numPCAcomponents) + \"testRatio\" + str(testRatio)  + \".npy\")\n",
    "\n",
    "y_train = np.load(\"y_trainPatches_\" + str(windowSize) + \"PCA\" + str(numPCAcomponents) + \"testRatio\" + str(testRatio) + \".npy\")"
   ]
  },
  {
   "cell_type": "code",
   "execution_count": 17,
   "metadata": {},
   "outputs": [],
   "source": [
    "# Reshape into (numberofsamples, channels, height, width)\n",
    "X_train = np.reshape(X_train, (X_train.shape[0],X_train.shape[3], X_train.shape[1], X_train.shape[2]))"
   ]
  },
  {
   "cell_type": "code",
   "execution_count": 18,
   "metadata": {},
   "outputs": [],
   "source": [
    "# convert class labels to on-hot encoding\n",
    "y_train = np_utils.to_categorical(y_train)"
   ]
  },
  {
   "cell_type": "code",
   "execution_count": 19,
   "metadata": {},
   "outputs": [
    {
     "name": "stdout",
     "output_type": "stream",
     "text": [
      "(30, 5, 5)\n"
     ]
    }
   ],
   "source": [
    "# Define the input shape \n",
    "input_shape= X_train[0].shape\n",
    "print(input_shape)"
   ]
  },
  {
   "cell_type": "code",
   "execution_count": 20,
   "metadata": {},
   "outputs": [],
   "source": [
    "# number of filters\n",
    "C1 = 3*numPCAcomponents"
   ]
  },
  {
   "cell_type": "code",
   "execution_count": 21,
   "metadata": {},
   "outputs": [],
   "source": [
    "# Define the model\n",
    "model = Sequential()\n",
    "\n",
    "model.add(Conv2D(C1, (3, 3), activation='relu', input_shape=input_shape))\n",
    "model.add(Conv2D(3*C1, (3, 3), activation='relu'))\n",
    "model.add(Dropout(0.25))\n",
    "\n",
    "\n",
    "\n",
    "model.add(Flatten())\n",
    "model.add(Dense(6*numPCAcomponents, activation='relu'))\n",
    "model.add(Dropout(0.5))\n",
    "model.add(Dense(16, activation='softmax'))"
   ]
  },
  {
   "cell_type": "code",
   "execution_count": 22,
   "metadata": {},
   "outputs": [],
   "source": [
    "sgd = SGD(lr=0.0001, decay=1e-6, momentum=0.9, nesterov=True)\n",
    "model.compile(loss='categorical_crossentropy', optimizer=sgd, metrics=['accuracy'])"
   ]
  },
  {
   "cell_type": "code",
   "execution_count": 23,
   "metadata": {},
   "outputs": [
    {
     "name": "stdout",
     "output_type": "stream",
     "text": [
      "Epoch 1/15\n",
      "29685/29685 [==============================] - 7s 224us/step - loss: 2.4095 - accuracy: 0.2859\n",
      "Epoch 2/15\n",
      "29685/29685 [==============================] - 5s 173us/step - loss: 1.5403 - accuracy: 0.5744\n",
      "Epoch 3/15\n",
      "29685/29685 [==============================] - 5s 173us/step - loss: 1.0144 - accuracy: 0.6872\n",
      "Epoch 4/15\n",
      "29685/29685 [==============================] - 5s 175us/step - loss: 0.7905 - accuracy: 0.7464\n",
      "Epoch 5/15\n",
      "29685/29685 [==============================] - 5s 176us/step - loss: 0.6659 - accuracy: 0.7811\n",
      "Epoch 6/15\n",
      "29685/29685 [==============================] - 5s 175us/step - loss: 0.5920 - accuracy: 0.8050\n",
      "Epoch 7/15\n",
      "29685/29685 [==============================] - 5s 180us/step - loss: 0.5282 - accuracy: 0.8237\n",
      "Epoch 8/15\n",
      "29685/29685 [==============================] - 5s 177us/step - loss: 0.4889 - accuracy: 0.8398\n",
      "Epoch 9/15\n",
      "29685/29685 [==============================] - 5s 175us/step - loss: 0.4472 - accuracy: 0.8533\n",
      "Epoch 10/15\n",
      "29685/29685 [==============================] - 5s 179us/step - loss: 0.4204 - accuracy: 0.8602\n",
      "Epoch 11/15\n",
      "29685/29685 [==============================] - 5s 178us/step - loss: 0.3963 - accuracy: 0.8701\n",
      "Epoch 12/15\n",
      "29685/29685 [==============================] - 5s 180us/step - loss: 0.3676 - accuracy: 0.8825\n",
      "Epoch 13/15\n",
      "29685/29685 [==============================] - 5s 166us/step - loss: 0.3520 - accuracy: 0.8842\n",
      "Epoch 14/15\n",
      "29685/29685 [==============================] - 5s 164us/step - loss: 0.3308 - accuracy: 0.8947\n",
      "Epoch 15/15\n",
      "29685/29685 [==============================] - 5s 166us/step - loss: 0.3178 - accuracy: 0.8960\n"
     ]
    },
    {
     "data": {
      "text/plain": [
       "<keras.callbacks.callbacks.History at 0x19b9f602c50>"
      ]
     },
     "execution_count": 23,
     "metadata": {},
     "output_type": "execute_result"
    }
   ],
   "source": [
    "model.fit(X_train, y_train, batch_size=32, epochs=15)"
   ]
  },
  {
   "cell_type": "code",
   "execution_count": 24,
   "metadata": {},
   "outputs": [],
   "source": [
    "import h5py\n",
    "from keras.models import load_model"
   ]
  },
  {
   "cell_type": "code",
   "execution_count": 25,
   "metadata": {},
   "outputs": [],
   "source": [
    "model.save('my_model' + str(windowSize) + 'PCA' + str(numPCAcomponents) + \"testRatio\" + str(testRatio) + '.h5')"
   ]
  },
  {
   "cell_type": "code",
   "execution_count": null,
   "metadata": {
    "collapsed": true
   },
   "outputs": [],
   "source": []
  }
 ],
 "metadata": {
  "kernelspec": {
   "display_name": "Python 3",
   "language": "python",
   "name": "python3"
  },
  "language_info": {
   "codemirror_mode": {
    "name": "ipython",
    "version": 3
   },
   "file_extension": ".py",
   "mimetype": "text/x-python",
   "name": "python",
   "nbconvert_exporter": "python",
   "pygments_lexer": "ipython3",
   "version": "3.7.0"
  }
 },
 "nbformat": 4,
 "nbformat_minor": 2
}
